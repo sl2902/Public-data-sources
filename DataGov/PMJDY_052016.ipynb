{
 "cells": [
  {
   "cell_type": "code",
   "execution_count": 1,
   "metadata": {
    "collapsed": true
   },
   "outputs": [],
   "source": [
    "import pandas as pd\n",
    "import numpy as np\n",
    "import os"
   ]
  },
  {
   "cell_type": "code",
   "execution_count": 2,
   "metadata": {
    "collapsed": false
   },
   "outputs": [],
   "source": [
    "path = r'E:/open_source'\n",
    "file = 'PMJDY_25_05_2016.csv'\n",
    "pmjdy = pd.read_csv(os.path.join(path, file))"
   ]
  },
  {
   "cell_type": "code",
   "execution_count": 3,
   "metadata": {
    "collapsed": false
   },
   "outputs": [
    {
     "data": {
      "text/html": [
       "<div>\n",
       "<table border=\"1\" class=\"dataframe\">\n",
       "  <thead>\n",
       "    <tr style=\"text-align: right;\">\n",
       "      <th></th>\n",
       "      <th>Rural</th>\n",
       "      <th>Urban</th>\n",
       "      <th>No Of Accounts</th>\n",
       "      <th>No Of Rupay Debit Card</th>\n",
       "      <th>Balance In Accounts(In crore)</th>\n",
       "      <th>No Of Accounts With Zero Balance</th>\n",
       "      <th>Aadhaar Seeding</th>\n",
       "    </tr>\n",
       "  </thead>\n",
       "  <tbody>\n",
       "    <tr>\n",
       "      <th>count</th>\n",
       "      <td>4.000000e+00</td>\n",
       "      <td>4.000000e+00</td>\n",
       "      <td>4.000000e+00</td>\n",
       "      <td>4.000000e+00</td>\n",
       "      <td>4.000000e+00</td>\n",
       "      <td>4.000000e+00</td>\n",
       "      <td>4.000000e+00</td>\n",
       "    </tr>\n",
       "    <tr>\n",
       "      <th>mean</th>\n",
       "      <td>6.736075e+07</td>\n",
       "      <td>4.228540e+07</td>\n",
       "      <td>1.096462e+08</td>\n",
       "      <td>9.007415e+07</td>\n",
       "      <td>1.902383e+06</td>\n",
       "      <td>2.813586e+07</td>\n",
       "      <td>5.017451e+07</td>\n",
       "    </tr>\n",
       "    <tr>\n",
       "      <th>std</th>\n",
       "      <td>5.893669e+07</td>\n",
       "      <td>4.402262e+07</td>\n",
       "      <td>1.021008e+08</td>\n",
       "      <td>8.538452e+07</td>\n",
       "      <td>1.774060e+06</td>\n",
       "      <td>2.629677e+07</td>\n",
       "      <td>4.918857e+07</td>\n",
       "    </tr>\n",
       "    <tr>\n",
       "      <th>min</th>\n",
       "      <td>5.014006e+06</td>\n",
       "      <td>3.101415e+06</td>\n",
       "      <td>8.115421e+06</td>\n",
       "      <td>7.636344e+06</td>\n",
       "      <td>1.415107e+05</td>\n",
       "      <td>3.068829e+06</td>\n",
       "      <td>3.209927e+06</td>\n",
       "    </tr>\n",
       "    <tr>\n",
       "      <th>25%</th>\n",
       "      <td>2.627512e+07</td>\n",
       "      <td>4.885688e+06</td>\n",
       "      <td>3.116081e+07</td>\n",
       "      <td>2.244318e+07</td>\n",
       "      <td>5.357224e+05</td>\n",
       "      <td>7.198828e+06</td>\n",
       "      <td>1.055325e+07</td>\n",
       "    </tr>\n",
       "    <tr>\n",
       "      <th>50%</th>\n",
       "      <td>6.485375e+07</td>\n",
       "      <td>4.073469e+07</td>\n",
       "      <td>1.055884e+08</td>\n",
       "      <td>8.625598e+07</td>\n",
       "      <td>1.831627e+06</td>\n",
       "      <td>2.660144e+07</td>\n",
       "      <td>4.856955e+07</td>\n",
       "    </tr>\n",
       "    <tr>\n",
       "      <th>75%</th>\n",
       "      <td>1.059394e+08</td>\n",
       "      <td>7.813440e+07</td>\n",
       "      <td>1.840738e+08</td>\n",
       "      <td>1.538869e+08</td>\n",
       "      <td>3.198288e+06</td>\n",
       "      <td>4.753847e+07</td>\n",
       "      <td>8.819082e+07</td>\n",
       "    </tr>\n",
       "    <tr>\n",
       "      <th>max</th>\n",
       "      <td>1.347215e+08</td>\n",
       "      <td>8.457079e+07</td>\n",
       "      <td>2.192923e+08</td>\n",
       "      <td>1.801483e+08</td>\n",
       "      <td>3.804765e+06</td>\n",
       "      <td>5.627171e+07</td>\n",
       "      <td>1.003490e+08</td>\n",
       "    </tr>\n",
       "  </tbody>\n",
       "</table>\n",
       "</div>"
      ],
      "text/plain": [
       "              Rural         Urban  No Of Accounts  No Of Rupay Debit Card  \\\n",
       "count  4.000000e+00  4.000000e+00    4.000000e+00            4.000000e+00   \n",
       "mean   6.736075e+07  4.228540e+07    1.096462e+08            9.007415e+07   \n",
       "std    5.893669e+07  4.402262e+07    1.021008e+08            8.538452e+07   \n",
       "min    5.014006e+06  3.101415e+06    8.115421e+06            7.636344e+06   \n",
       "25%    2.627512e+07  4.885688e+06    3.116081e+07            2.244318e+07   \n",
       "50%    6.485375e+07  4.073469e+07    1.055884e+08            8.625598e+07   \n",
       "75%    1.059394e+08  7.813440e+07    1.840738e+08            1.538869e+08   \n",
       "max    1.347215e+08  8.457079e+07    2.192923e+08            1.801483e+08   \n",
       "\n",
       "       Balance In Accounts(In crore)  No Of Accounts With Zero Balance  \\\n",
       "count                   4.000000e+00                      4.000000e+00   \n",
       "mean                    1.902383e+06                      2.813586e+07   \n",
       "std                     1.774060e+06                      2.629677e+07   \n",
       "min                     1.415107e+05                      3.068829e+06   \n",
       "25%                     5.357224e+05                      7.198828e+06   \n",
       "50%                     1.831627e+06                      2.660144e+07   \n",
       "75%                     3.198288e+06                      4.753847e+07   \n",
       "max                     3.804765e+06                      5.627171e+07   \n",
       "\n",
       "       Aadhaar Seeding  \n",
       "count     4.000000e+00  \n",
       "mean      5.017451e+07  \n",
       "std       4.918857e+07  \n",
       "min       3.209927e+06  \n",
       "25%       1.055325e+07  \n",
       "50%       4.856955e+07  \n",
       "75%       8.819082e+07  \n",
       "max       1.003490e+08  "
      ]
     },
     "execution_count": 3,
     "metadata": {},
     "output_type": "execute_result"
    }
   ],
   "source": [
    "pmjdy.describe()"
   ]
  },
  {
   "cell_type": "code",
   "execution_count": 6,
   "metadata": {
    "collapsed": false
   },
   "outputs": [
    {
     "data": {
      "text/plain": [
       "Index([u'Bank Type', u'Rural', u'Urban', u'No Of Accounts',\n",
       "       u'No Of Rupay Debit Card', u'Balance In Accounts(In crore)',\n",
       "       u'No Of Accounts With Zero Balance', u'Aadhaar Seeding'],\n",
       "      dtype='object')"
      ]
     },
     "execution_count": 6,
     "metadata": {},
     "output_type": "execute_result"
    }
   ],
   "source": [
    "pmjdy.columns"
   ]
  },
  {
   "cell_type": "code",
   "execution_count": 7,
   "metadata": {
    "collapsed": false
   },
   "outputs": [
    {
     "data": {
      "text/html": [
       "<div>\n",
       "<table border=\"1\" class=\"dataframe\">\n",
       "  <thead>\n",
       "    <tr style=\"text-align: right;\">\n",
       "      <th></th>\n",
       "      <th>Bank Type</th>\n",
       "      <th>Rural</th>\n",
       "      <th>Urban</th>\n",
       "      <th>No Of Accounts</th>\n",
       "      <th>No Of Rupay Debit Card</th>\n",
       "      <th>Balance In Accounts(In crore)</th>\n",
       "      <th>No Of Accounts With Zero Balance</th>\n",
       "      <th>Aadhaar Seeding</th>\n",
       "    </tr>\n",
       "  </thead>\n",
       "  <tbody>\n",
       "    <tr>\n",
       "      <th>0</th>\n",
       "      <td>Public Sector Bank</td>\n",
       "      <td>96345344</td>\n",
       "      <td>75988933</td>\n",
       "      <td>172334277</td>\n",
       "      <td>145133163</td>\n",
       "      <td>2996128.45</td>\n",
       "      <td>44627389</td>\n",
       "      <td>84138080</td>\n",
       "    </tr>\n",
       "    <tr>\n",
       "      <th>1</th>\n",
       "      <td>Regional Rural Bank</td>\n",
       "      <td>33362156</td>\n",
       "      <td>5480446</td>\n",
       "      <td>38842602</td>\n",
       "      <td>27378788</td>\n",
       "      <td>667126.33</td>\n",
       "      <td>8575494</td>\n",
       "      <td>13001019</td>\n",
       "    </tr>\n",
       "    <tr>\n",
       "      <th>2</th>\n",
       "      <td>Private Banks</td>\n",
       "      <td>5014006</td>\n",
       "      <td>3101415</td>\n",
       "      <td>8115421</td>\n",
       "      <td>7636344</td>\n",
       "      <td>141510.69</td>\n",
       "      <td>3068829</td>\n",
       "      <td>3209927</td>\n",
       "    </tr>\n",
       "    <tr>\n",
       "      <th>3</th>\n",
       "      <td>Grand Total</td>\n",
       "      <td>134721506</td>\n",
       "      <td>84570794</td>\n",
       "      <td>219292300</td>\n",
       "      <td>180148295</td>\n",
       "      <td>3804765.47</td>\n",
       "      <td>56271712</td>\n",
       "      <td>100349026</td>\n",
       "    </tr>\n",
       "  </tbody>\n",
       "</table>\n",
       "</div>"
      ],
      "text/plain": [
       "             Bank Type      Rural     Urban  No Of Accounts  \\\n",
       "0   Public Sector Bank   96345344  75988933       172334277   \n",
       "1  Regional Rural Bank   33362156   5480446        38842602   \n",
       "2        Private Banks    5014006   3101415         8115421   \n",
       "3          Grand Total  134721506  84570794       219292300   \n",
       "\n",
       "   No Of Rupay Debit Card  Balance In Accounts(In crore)  \\\n",
       "0               145133163                     2996128.45   \n",
       "1                27378788                      667126.33   \n",
       "2                 7636344                      141510.69   \n",
       "3               180148295                     3804765.47   \n",
       "\n",
       "   No Of Accounts With Zero Balance  Aadhaar Seeding  \n",
       "0                          44627389         84138080  \n",
       "1                           8575494         13001019  \n",
       "2                           3068829          3209927  \n",
       "3                          56271712        100349026  "
      ]
     },
     "execution_count": 7,
     "metadata": {},
     "output_type": "execute_result"
    }
   ],
   "source": [
    "pmjdy.head(5)"
   ]
  },
  {
   "cell_type": "markdown",
   "metadata": {},
   "source": [
    "## Remove the grand total row"
   ]
  },
  {
   "cell_type": "code",
   "execution_count": 4,
   "metadata": {
    "collapsed": false
   },
   "outputs": [],
   "source": [
    "pmjdy = pmjdy[:pmjdy.shape[0]-1]"
   ]
  },
  {
   "cell_type": "code",
   "execution_count": 13,
   "metadata": {
    "collapsed": false
   },
   "outputs": [
    {
     "data": {
      "text/plain": [
       "4"
      ]
     },
     "execution_count": 13,
     "metadata": {},
     "output_type": "execute_result"
    }
   ],
   "source": [
    "pmjdy.shape[0]"
   ]
  },
  {
   "cell_type": "markdown",
   "metadata": {},
   "source": [
    "## Create additional features\n",
    "Number of Rupay Debit Card - Rural, Urban<br>\n",
    "Average Balance in Accounts(Crore) - Rural, Urban<br>\n",
    "Number of Accounts with zero balance - Rural, Urban<br>\n",
    "Number of Aadhaar seeding - Rural, Urban"
   ]
  },
  {
   "cell_type": "code",
   "execution_count": 22,
   "metadata": {
    "collapsed": false
   },
   "outputs": [],
   "source": [
    "pmjdy['No_RupayDebit_Rural'] = (1. * pmjdy['Rural'] * pmjdy['No Of Rupay Debit Card'] / pmjdy['No Of Accounts']).round()"
   ]
  },
  {
   "cell_type": "code",
   "execution_count": 24,
   "metadata": {
    "collapsed": false
   },
   "outputs": [],
   "source": [
    "pmjdy['No_RupayDebit_Urban'] = (1. * pmjdy['Urban'] * pmjdy['No Of Rupay Debit Card'] / pmjdy['No Of Accounts']).round()"
   ]
  },
  {
   "cell_type": "code",
   "execution_count": 37,
   "metadata": {
    "collapsed": false
   },
   "outputs": [],
   "source": [
    "pmjdy['Bal_Rural'] = (1. * pmjdy['Rural'] * pmjdy['Balance In Accounts(In crore)'] / pmjdy['No Of Accounts']).round()"
   ]
  },
  {
   "cell_type": "code",
   "execution_count": 38,
   "metadata": {
    "collapsed": true
   },
   "outputs": [],
   "source": [
    "pmjdy['Bal_Urban'] = (1. * pmjdy['Urban'] * pmjdy['Balance In Accounts(In crore)'] / pmjdy['No Of Accounts']).round()"
   ]
  },
  {
   "cell_type": "code",
   "execution_count": 50,
   "metadata": {
    "collapsed": true
   },
   "outputs": [],
   "source": [
    "#pmjdy['AvgBal_Rural'] = (10000000. * pmjdy['Bal_Rural'] / pmjdy['Rural']).round()"
   ]
  },
  {
   "cell_type": "code",
   "execution_count": 51,
   "metadata": {
    "collapsed": true
   },
   "outputs": [],
   "source": [
    "#pmjdy['AvgBal_Urban'] = (10000000. * pmjdy['Bal_Urban'] / pmjdy['Urban']).round()"
   ]
  },
  {
   "cell_type": "code",
   "execution_count": 41,
   "metadata": {
    "collapsed": false
   },
   "outputs": [],
   "source": [
    "pmjdy['No_AccZeroBal_Rural'] = (1. * pmjdy['Rural'] * pmjdy['No Of Accounts With Zero Balance'] / pmjdy['No Of Accounts']).\\\n",
    "                                round()"
   ]
  },
  {
   "cell_type": "code",
   "execution_count": 42,
   "metadata": {
    "collapsed": false
   },
   "outputs": [],
   "source": [
    "pmjdy['No_AccZeroBal_Urban'] = (1. * pmjdy['Urban'] * pmjdy['No Of Accounts With Zero Balance'] / pmjdy['No Of Accounts']).\\\n",
    "                                round()"
   ]
  },
  {
   "cell_type": "code",
   "execution_count": 43,
   "metadata": {
    "collapsed": true
   },
   "outputs": [],
   "source": [
    "pmjdy['No_AaadhaarSeeds_Rural'] = (1. * pmjdy['Rural'] * pmjdy['Aadhaar Seeding'] / pmjdy['No Of Accounts']).round()"
   ]
  },
  {
   "cell_type": "code",
   "execution_count": 44,
   "metadata": {
    "collapsed": true
   },
   "outputs": [],
   "source": [
    "pmjdy['No_AaadhaarSeeds_Urban'] = (1. * pmjdy['Urban'] * pmjdy['Aadhaar Seeding'] / pmjdy['No Of Accounts']).round()"
   ]
  },
  {
   "cell_type": "code",
   "execution_count": 45,
   "metadata": {
    "collapsed": false
   },
   "outputs": [],
   "source": [
    "#pmjdy.drop(['Percent_RupayDebitCard_Rural', 'Percent_RupayDebit_Urban'], axis=1, inplace=True)\n",
    "#pmjdy.drop(['AvgBal_Rural', 'AvgBal_Urban'], axis=1, inplace=True)"
   ]
  },
  {
   "cell_type": "code",
   "execution_count": 52,
   "metadata": {
    "collapsed": false
   },
   "outputs": [
    {
     "data": {
      "text/html": [
       "<div>\n",
       "<table border=\"1\" class=\"dataframe\">\n",
       "  <thead>\n",
       "    <tr style=\"text-align: right;\">\n",
       "      <th></th>\n",
       "      <th>Bank Type</th>\n",
       "      <th>Rural</th>\n",
       "      <th>Urban</th>\n",
       "      <th>No Of Accounts</th>\n",
       "      <th>No Of Rupay Debit Card</th>\n",
       "      <th>Balance In Accounts(In crore)</th>\n",
       "      <th>No Of Accounts With Zero Balance</th>\n",
       "      <th>Aadhaar Seeding</th>\n",
       "      <th>No_AaadhaarSeeds_Rural</th>\n",
       "      <th>No_AaadhaarSeeds_Urban</th>\n",
       "      <th>No_RupayDebit_Rural</th>\n",
       "      <th>No_RupayDebit_Urban</th>\n",
       "      <th>No_AccZeroBal_Rural</th>\n",
       "      <th>No_AccZeroBal_Urban</th>\n",
       "      <th>Bal_Rural</th>\n",
       "      <th>Bal_Urban</th>\n",
       "      <th>AvgBal_Urban</th>\n",
       "      <th>AvgBal_Rural</th>\n",
       "    </tr>\n",
       "  </thead>\n",
       "  <tbody>\n",
       "    <tr>\n",
       "      <th>0</th>\n",
       "      <td>Public Sector Bank</td>\n",
       "      <td>96345344</td>\n",
       "      <td>75988933</td>\n",
       "      <td>172334277</td>\n",
       "      <td>145133163</td>\n",
       "      <td>2996128.45</td>\n",
       "      <td>44627389</td>\n",
       "      <td>84138080</td>\n",
       "      <td>47038305.0</td>\n",
       "      <td>37099775.0</td>\n",
       "      <td>81138267.0</td>\n",
       "      <td>63994896.0</td>\n",
       "      <td>24949425.0</td>\n",
       "      <td>19677964.0</td>\n",
       "      <td>1675018.0</td>\n",
       "      <td>1321110.0</td>\n",
       "      <td>173856.0</td>\n",
       "      <td>173856.0</td>\n",
       "    </tr>\n",
       "    <tr>\n",
       "      <th>1</th>\n",
       "      <td>Regional Rural Bank</td>\n",
       "      <td>33362156</td>\n",
       "      <td>5480446</td>\n",
       "      <td>38842602</td>\n",
       "      <td>27378788</td>\n",
       "      <td>667126.33</td>\n",
       "      <td>8575494</td>\n",
       "      <td>13001019</td>\n",
       "      <td>11166657.0</td>\n",
       "      <td>1834362.0</td>\n",
       "      <td>23515814.0</td>\n",
       "      <td>3862974.0</td>\n",
       "      <td>7365546.0</td>\n",
       "      <td>1209948.0</td>\n",
       "      <td>572999.0</td>\n",
       "      <td>94127.0</td>\n",
       "      <td>171751.0</td>\n",
       "      <td>171751.0</td>\n",
       "    </tr>\n",
       "    <tr>\n",
       "      <th>2</th>\n",
       "      <td>Private Banks</td>\n",
       "      <td>5014006</td>\n",
       "      <td>3101415</td>\n",
       "      <td>8115421</td>\n",
       "      <td>7636344</td>\n",
       "      <td>141510.69</td>\n",
       "      <td>3068829</td>\n",
       "      <td>3209927</td>\n",
       "      <td>1983211.0</td>\n",
       "      <td>1226716.0</td>\n",
       "      <td>4718015.0</td>\n",
       "      <td>2918329.0</td>\n",
       "      <td>1896036.0</td>\n",
       "      <td>1172793.0</td>\n",
       "      <td>87431.0</td>\n",
       "      <td>54080.0</td>\n",
       "      <td>174372.0</td>\n",
       "      <td>174374.0</td>\n",
       "    </tr>\n",
       "  </tbody>\n",
       "</table>\n",
       "</div>"
      ],
      "text/plain": [
       "             Bank Type     Rural     Urban  No Of Accounts  \\\n",
       "0   Public Sector Bank  96345344  75988933       172334277   \n",
       "1  Regional Rural Bank  33362156   5480446        38842602   \n",
       "2        Private Banks   5014006   3101415         8115421   \n",
       "\n",
       "   No Of Rupay Debit Card  Balance In Accounts(In crore)  \\\n",
       "0               145133163                     2996128.45   \n",
       "1                27378788                      667126.33   \n",
       "2                 7636344                      141510.69   \n",
       "\n",
       "   No Of Accounts With Zero Balance  Aadhaar Seeding  No_AaadhaarSeeds_Rural  \\\n",
       "0                          44627389         84138080              47038305.0   \n",
       "1                           8575494         13001019              11166657.0   \n",
       "2                           3068829          3209927               1983211.0   \n",
       "\n",
       "   No_AaadhaarSeeds_Urban  No_RupayDebit_Rural  No_RupayDebit_Urban  \\\n",
       "0              37099775.0           81138267.0           63994896.0   \n",
       "1               1834362.0           23515814.0            3862974.0   \n",
       "2               1226716.0            4718015.0            2918329.0   \n",
       "\n",
       "   No_AccZeroBal_Rural  No_AccZeroBal_Urban  Bal_Rural  Bal_Urban  \\\n",
       "0           24949425.0           19677964.0  1675018.0  1321110.0   \n",
       "1            7365546.0            1209948.0   572999.0    94127.0   \n",
       "2            1896036.0            1172793.0    87431.0    54080.0   \n",
       "\n",
       "   AvgBal_Urban  AvgBal_Rural  \n",
       "0      173856.0      173856.0  \n",
       "1      171751.0      171751.0  \n",
       "2      174372.0      174374.0  "
      ]
     },
     "execution_count": 52,
     "metadata": {},
     "output_type": "execute_result"
    }
   ],
   "source": [
    "pmjdy"
   ]
  },
  {
   "cell_type": "markdown",
   "metadata": {},
   "source": [
    "## Reshape the data - wide to long"
   ]
  },
  {
   "cell_type": "code",
   "execution_count": 67,
   "metadata": {
    "collapsed": false
   },
   "outputs": [],
   "source": [
    "pmjdy_1 = pmjdy.ix[:,['Bank Type', 'Rural', 'Urban']]\n",
    "pmjdy_1 = pd.melt(pmjdy_1, id_vars=['Bank Type'], value_vars=['Rural', 'Urban'], var_name='Location', value_name='#Accounts').sort_values('Bank Type')"
   ]
  },
  {
   "cell_type": "code",
   "execution_count": 76,
   "metadata": {
    "collapsed": false
   },
   "outputs": [],
   "source": [
    "pmjdy_2 = pmjdy.ix[:,['Bank Type', 'No_AaadhaarSeeds_Rural', 'No_AaadhaarSeeds_Urban']]\n",
    "pmjdy_2.rename(columns={'No_AaadhaarSeeds_Rural': 'Rural', 'No_AaadhaarSeeds_Urban': 'Urban'}, inplace=True)\n",
    "pmjdy_2 = pd.melt(pmjdy_2, id_vars=['Bank Type'], value_vars=['Rural', 'Urban'], var_name='Location', value_name='#AadhaarSeeds').sort_values('Bank Type')"
   ]
  },
  {
   "cell_type": "code",
   "execution_count": 78,
   "metadata": {
    "collapsed": false
   },
   "outputs": [],
   "source": [
    "pmjdy_3 = pmjdy.ix[:,['Bank Type', 'No_RupayDebit_Rural', 'No_RupayDebit_Urban']]\n",
    "pmjdy_3.rename(columns={'No_RupayDebit_Rural': 'Rural', 'No_RupayDebit_Urban': 'Urban'}, inplace=True)\n",
    "pmjdy_3 = pd.melt(pmjdy_3, id_vars=['Bank Type'], value_vars=['Rural', 'Urban'], var_name='Location', value_name='#RupayCards').sort_values('Bank Type')"
   ]
  },
  {
   "cell_type": "code",
   "execution_count": 81,
   "metadata": {
    "collapsed": true
   },
   "outputs": [],
   "source": [
    "pmjdy_4 = pmjdy.ix[:,['Bank Type', 'Bal_Rural', 'Bal_Urban']]\n",
    "pmjdy_4.rename(columns={'Bal_Rural': 'Rural', 'Bal_Urban': 'Urban'}, inplace=True)\n",
    "pmjdy_4 = pd.melt(pmjdy_4, id_vars=['Bank Type'], value_vars=['Rural', 'Urban'], var_name='Location', value_name='AccBal(Cr)').sort_values('Bank Type')"
   ]
  },
  {
   "cell_type": "code",
   "execution_count": 83,
   "metadata": {
    "collapsed": false
   },
   "outputs": [],
   "source": [
    "pmjdy_merge = [pmjdy_1, pmjdy_2, pmjdy_3, pmjdy_4]\n",
    "pmjdy = reduce(lambda left, right: pd.merge(left, right, on=['Bank Type', 'Location']), pmjdy_merge)"
   ]
  },
  {
   "cell_type": "code",
   "execution_count": 255,
   "metadata": {
    "collapsed": false
   },
   "outputs": [],
   "source": [
    "pmjdy.to_csv(os.path.join(path, 'pmjdy.csv'), index=False)"
   ]
  },
  {
   "cell_type": "markdown",
   "metadata": {},
   "source": [
    "## Read the temporal PMJDY files and insert the period of the file as the first column"
   ]
  },
  {
   "cell_type": "code",
   "execution_count": 87,
   "metadata": {
    "collapsed": false
   },
   "outputs": [],
   "source": [
    "file_jan = 'PMJDY_27_01_2016.csv'\n",
    "file_feb = 'PMJDY_24_02_2016.csv'\n",
    "file_mar = 'PMJDY_30_03_2016.csv'\n",
    "file_apr = 'PMJDY_27_04_2016.csv'\n",
    "file_may = 'PMJDY_25_05_2016.csv'\n",
    "pmjdy_jan = pd.read_csv(os.path.join(path, file_jan))\n",
    "pmjdy_jan.insert(0, 'Period', ['27-01-2016'] * pmjdy_jan.shape[0])\n",
    "pmjdy_feb = pd.read_csv(os.path.join(path, file_feb))\n",
    "pmjdy_feb.insert(0, 'Period', ['24-02-2016'] * pmjdy_feb.shape[0])\n",
    "pmjdy_mar = pd.read_csv(os.path.join(path, file_mar))\n",
    "pmjdy_mar.insert(0, 'Period', ['30-03-2016'] * pmjdy_mar.shape[0])\n",
    "pmjdy_apr = pd.read_csv(os.path.join(path, file_apr))\n",
    "pmjdy_apr.insert(0, 'Period', ['27-04-2016'] * pmjdy_apr.shape[0])\n",
    "pmjdy_may = pd.read_csv(os.path.join(path, file_may))\n",
    "pmjdy_may.insert(0, 'Period', ['25-05-2016'] * pmjdy_may.shape[0])"
   ]
  },
  {
   "cell_type": "markdown",
   "metadata": {},
   "source": [
    "Convert the Balance in Accounts(in lacs) to in crores"
   ]
  },
  {
   "cell_type": "code",
   "execution_count": 88,
   "metadata": {
    "collapsed": false
   },
   "outputs": [],
   "source": [
    "pmjdy_jan['Balance in Accounts (In Crore)'] = pmjdy_jan['Balance in Accounts (in Lacs)'] / 100.\n",
    "pmjdy_feb['Balance in Accounts (In Crore)'] = pmjdy_feb['Balance In Accounts(In Lacs)'] / 100.\n",
    "#pmjdy_feb['Balance in Accounts (In Crore)'] = pmjdy_feb.ix[:, 6] / 100.\n",
    "pmjdy_mar['Balance in Accounts (In Crore)'] = pmjdy_mar['Balance In Accounts(In Lacs)'] / 100.\n",
    "#pmjdy_mar['Balance in Accounts (In Crore)'] = pmjdy_mar.ix[:, 6] / 100."
   ]
  },
  {
   "cell_type": "code",
   "execution_count": 89,
   "metadata": {
    "collapsed": false
   },
   "outputs": [],
   "source": [
    "pmjdy_jan.drop(['Balance in Accounts (in Lacs)'], inplace=True, axis=1)\n",
    "pmjdy_feb.drop(['Balance In Accounts(In Lacs)'], inplace=True, axis=1)\n",
    "pmjdy_mar.drop(['Balance In Accounts(In Lacs)'], inplace=True, axis=1)"
   ]
  },
  {
   "cell_type": "code",
   "execution_count": 90,
   "metadata": {
    "collapsed": false
   },
   "outputs": [
    {
     "name": "stdout",
     "output_type": "stream",
     "text": [
      "Index([u'Period', u'Bank Type', u'Rural', u'Urban', u'No of Accounts',\n",
      "       u'No of Rupay Debit Card', u'No of Accounts with Zero Balance',\n",
      "       u'Aadhaar Seeding', u'Balance in Accounts (In Crore)'],\n",
      "      dtype='object')\n",
      "Index([u'Period', u'Bank Type', u'Rural', u'Urban', u'No Of Accounts',\n",
      "       u'No Of Rupay \\nDebit Card', u'No Of Accounts With Zero Balance',\n",
      "       u'Aadhaar Seeding', u'Balance in Accounts (In Crore)'],\n",
      "      dtype='object')\n",
      "Index([u'Period', u'Bank Type', u'Rural', u'Urban', u'No Of Accounts',\n",
      "       u'No Of Rupay \\nDebit Card', u'No Of Accounts With Zero Balance',\n",
      "       u'Aadhaar Seeding', u'Balance in Accounts (In Crore)'],\n",
      "      dtype='object')\n",
      "Index([u'Period', u'Type', u'Rural', u'Urban', u'No. of Accounts',\n",
      "       u'No. of Rupay Debit Cards', u'Balance in Accounts (in crore)',\n",
      "       u'No. of Accounts with Zero Balance', u'Aadhaar Seeding'],\n",
      "      dtype='object')\n",
      "Index([u'Period', u'Bank Type', u'Rural', u'Urban', u'No Of Accounts',\n",
      "       u'No Of Rupay Debit Card', u'Balance In Accounts(In crore)',\n",
      "       u'No Of Accounts With Zero Balance', u'Aadhaar Seeding'],\n",
      "      dtype='object')\n"
     ]
    }
   ],
   "source": [
    "print pmjdy_jan.columns\n",
    "print pmjdy_feb.columns\n",
    "print pmjdy_mar.columns\n",
    "print pmjdy_apr.columns\n",
    "print pmjdy_may.columns"
   ]
  },
  {
   "cell_type": "code",
   "execution_count": 91,
   "metadata": {
    "collapsed": false
   },
   "outputs": [],
   "source": [
    "pmjdy_feb.rename(columns={'No Of Rupay \\nDebit Card': 'No of Rupay Debit Card', \n",
    "                          'No Of Accounts With Zero Balance': 'No of Accounts with Zero Balance',\n",
    "                         'No Of Accounts': 'No of Accounts'}, inplace=True)\n",
    "pmjdy_mar.rename(columns={'No Of Rupay \\nDebit Card': 'No of Rupay Debit Card',\n",
    "                         'No Of Accounts With Zero Balance': 'No of Accounts with Zero Balance',\n",
    "                         'No Of Accounts': 'No of Accounts'}, inplace=True)\n",
    "pmjdy_apr.rename(columns={'No. of Rupay Debit Cards': 'No of Rupay Debit Card',\n",
    "                         'No. of Accounts with Zero Balance': 'No of Accounts with Zero Balance',\n",
    "                         'No. of Accounts': 'No of Accounts',\n",
    "                         'Balance in Accounts (in crore)': 'Balance in Accounts (In Crore)',\n",
    "                         'Type': 'Bank Type'}, inplace=True)\n",
    "pmjdy_may.rename(columns={'No Of Rupay Debit Card': 'No of Rupay Debit Card',\n",
    "                         'No Of Accounts With Zero Balance': 'No of Accounts with Zero Balance',\n",
    "                         'No Of Accounts': 'No of Accounts',\n",
    "                         'Balance In Accounts(In crore)': 'Balance in Accounts (In Crore)'}, inplace=True)"
   ]
  },
  {
   "cell_type": "markdown",
   "metadata": {},
   "source": [
    "## Replace inconsistent Bank Type values for Feb, Mar, and May"
   ]
  },
  {
   "cell_type": "code",
   "execution_count": 92,
   "metadata": {
    "collapsed": true
   },
   "outputs": [],
   "source": [
    "pmjdy_feb['Bank Type'].replace('Public Sector Bank', 'Public Sector Banks', inplace=True)\n",
    "pmjdy_feb['Bank Type'].replace('Regional Rural Bank', 'Regional Rural Banks', inplace=True)\n",
    "\n",
    "pmjdy_mar['Bank Type'].replace('Public Sector Bank', 'Public Sector Banks', inplace=True)\n",
    "pmjdy_mar['Bank Type'].replace('Regional Rural Bank', 'Regional Rural Banks', inplace=True)\n",
    "\n",
    "pmjdy_may['Bank Type'].replace('Public Sector Bank', 'Public Sector Banks', inplace=True)\n",
    "pmjdy_may['Bank Type'].replace('Regional Rural Bank', 'Regional Rural Banks', inplace=True)"
   ]
  },
  {
   "cell_type": "markdown",
   "metadata": {},
   "source": [
    "## After ensuring consistency in the column names, concatenate the files on the column axis"
   ]
  },
  {
   "cell_type": "code",
   "execution_count": 93,
   "metadata": {
    "collapsed": false
   },
   "outputs": [],
   "source": [
    "pmjdy_consolidate = pd.concat([pmjdy_jan.ix[0:2,], \n",
    "           pmjdy_feb.ix[0:2,],\n",
    "           pmjdy_mar.ix[0:2,],\n",
    "           pmjdy_apr.ix[0:2,],\n",
    "           pmjdy_may.ix[0:2,]\n",
    "           ], axis=0\n",
    "           ).reset_index().drop(['index'], axis=1)"
   ]
  },
  {
   "cell_type": "code",
   "execution_count": 94,
   "metadata": {
    "collapsed": true
   },
   "outputs": [],
   "source": [
    "#pmjdy_consolidate.to_csv(os.path.join(path, 'pmjdy_consolidated.csv'), index=False)"
   ]
  },
  {
   "cell_type": "markdown",
   "metadata": {},
   "source": [
    "## Create additional features\n",
    "Number of Rupay Debit Card - Rural, Urban<br>\n",
    "Average Balance in Accounts(Crore) - Rural, Urban<br>\n",
    "Number of Accounts with zero balance - Rural, Urban<br>\n",
    "Number of Aadhaar seeding - Rural, Urban"
   ]
  },
  {
   "cell_type": "code",
   "execution_count": 95,
   "metadata": {
    "collapsed": false
   },
   "outputs": [],
   "source": [
    "pmjdy_consolidate['No_RupayDebit_Rural'] = (1. * pmjdy_consolidate['Rural'] * pmjdy_consolidate['No of Rupay Debit Card'] / pmjdy_consolidate['No of Accounts']).round()"
   ]
  },
  {
   "cell_type": "code",
   "execution_count": 96,
   "metadata": {
    "collapsed": true
   },
   "outputs": [],
   "source": [
    "pmjdy_consolidate['No_RupayDebit_Urban'] = (1. * pmjdy_consolidate['Urban'] * pmjdy_consolidate['No of Rupay Debit Card'] / pmjdy_consolidate['No of Accounts']).round()"
   ]
  },
  {
   "cell_type": "code",
   "execution_count": 97,
   "metadata": {
    "collapsed": false
   },
   "outputs": [],
   "source": [
    "pmjdy_consolidate['Bal_Rural'] = (1. * pmjdy_consolidate['Rural'] * pmjdy_consolidate['Balance in Accounts (In Crore)'] / pmjdy_consolidate['No of Accounts']).round()"
   ]
  },
  {
   "cell_type": "code",
   "execution_count": 98,
   "metadata": {
    "collapsed": true
   },
   "outputs": [],
   "source": [
    "pmjdy_consolidate['Bal_Urban'] = (1. * pmjdy_consolidate['Urban'] * pmjdy_consolidate['Balance in Accounts (In Crore)'] / pmjdy_consolidate['No of Accounts']).round()"
   ]
  },
  {
   "cell_type": "code",
   "execution_count": 99,
   "metadata": {
    "collapsed": false
   },
   "outputs": [],
   "source": [
    "pmjdy_consolidate['No_AccZeroBal_Urban'] = (1. * pmjdy_consolidate['Urban'] * pmjdy_consolidate['No of Accounts with Zero Balance'] / pmjdy_consolidate['No of Accounts']).\\\n",
    "                                round()"
   ]
  },
  {
   "cell_type": "code",
   "execution_count": 100,
   "metadata": {
    "collapsed": true
   },
   "outputs": [],
   "source": [
    "pmjdy_consolidate['No_AccZeroBal_Rural'] = (1. * pmjdy_consolidate['Rural'] * pmjdy_consolidate['No of Accounts with Zero Balance'] / pmjdy_consolidate['No of Accounts']).\\\n",
    "                                round()"
   ]
  },
  {
   "cell_type": "code",
   "execution_count": 101,
   "metadata": {
    "collapsed": true
   },
   "outputs": [],
   "source": [
    "pmjdy_consolidate['No_AaadhaarSeeds_Rural'] = (1. * pmjdy_consolidate['Rural'] * pmjdy_consolidate['Aadhaar Seeding'] / pmjdy_consolidate['No of Accounts']).round()"
   ]
  },
  {
   "cell_type": "code",
   "execution_count": 102,
   "metadata": {
    "collapsed": true
   },
   "outputs": [],
   "source": [
    "pmjdy_consolidate['No_AaadhaarSeeds_Urban'] = (1. * pmjdy_consolidate['Urban'] * pmjdy_consolidate['Aadhaar Seeding'] / pmjdy_consolidate['No of Accounts']).round()"
   ]
  },
  {
   "cell_type": "code",
   "execution_count": 103,
   "metadata": {
    "collapsed": false
   },
   "outputs": [],
   "source": [
    "pmjdy_consolidate['Overall_Bal'] = (10000000. * pmjdy_consolidate['Balance in Accounts (In Crore)'] / pmjdy_consolidate['No of Accounts']).round()"
   ]
  },
  {
   "cell_type": "code",
   "execution_count": 105,
   "metadata": {
    "collapsed": false
   },
   "outputs": [],
   "source": [
    "pmjdy_consolidate.to_csv(os.path.join(path, 'pmjdy_consolidated.csv'), index=False)"
   ]
  },
  {
   "cell_type": "code",
   "execution_count": 108,
   "metadata": {
    "collapsed": false
   },
   "outputs": [
    {
     "data": {
      "text/html": [
       "<div>\n",
       "<table border=\"1\" class=\"dataframe\">\n",
       "  <thead>\n",
       "    <tr style=\"text-align: right;\">\n",
       "      <th></th>\n",
       "      <th>Aadhaar Seeding</th>\n",
       "      <th>Balance in Accounts (In Crore)</th>\n",
       "      <th>Bank Type</th>\n",
       "      <th>No of Accounts</th>\n",
       "      <th>No of Accounts with Zero Balance</th>\n",
       "      <th>No of Rupay Debit Card</th>\n",
       "      <th>Period</th>\n",
       "      <th>Rural</th>\n",
       "      <th>Urban</th>\n",
       "      <th>No_RupayDebit_Rural</th>\n",
       "      <th>No_RupayDebit_Urban</th>\n",
       "      <th>Bal_Rural</th>\n",
       "      <th>Bal_Urban</th>\n",
       "      <th>No_AccZeroBal_Urban</th>\n",
       "      <th>No_AccZeroBal_Rural</th>\n",
       "      <th>No_AaadhaarSeeds_Rural</th>\n",
       "      <th>No_AaadhaarSeeds_Urban</th>\n",
       "      <th>Overall_Bal</th>\n",
       "    </tr>\n",
       "  </thead>\n",
       "  <tbody>\n",
       "    <tr>\n",
       "      <th>0</th>\n",
       "      <td>74948188</td>\n",
       "      <td>2.427731e+04</td>\n",
       "      <td>Public Sector Banks</td>\n",
       "      <td>160835981</td>\n",
       "      <td>51024535</td>\n",
       "      <td>138621275</td>\n",
       "      <td>27-01-2016</td>\n",
       "      <td>89537898</td>\n",
       "      <td>71298083</td>\n",
       "      <td>77170901.0</td>\n",
       "      <td>61450374.0</td>\n",
       "      <td>13515.0</td>\n",
       "      <td>10762.0</td>\n",
       "      <td>22619015.0</td>\n",
       "      <td>28405520.0</td>\n",
       "      <td>41723893.0</td>\n",
       "      <td>33224295.0</td>\n",
       "      <td>1509.0</td>\n",
       "    </tr>\n",
       "    <tr>\n",
       "      <th>1</th>\n",
       "      <td>10496171</td>\n",
       "      <td>5.358183e+03</td>\n",
       "      <td>Regional Rural Banks</td>\n",
       "      <td>36401999</td>\n",
       "      <td>9451369</td>\n",
       "      <td>26389394</td>\n",
       "      <td>27-01-2016</td>\n",
       "      <td>31248470</td>\n",
       "      <td>5153529</td>\n",
       "      <td>22653376.0</td>\n",
       "      <td>3736018.0</td>\n",
       "      <td>4600.0</td>\n",
       "      <td>759.0</td>\n",
       "      <td>1338056.0</td>\n",
       "      <td>8113313.0</td>\n",
       "      <td>9010200.0</td>\n",
       "      <td>1485971.0</td>\n",
       "      <td>1472.0</td>\n",
       "    </tr>\n",
       "    <tr>\n",
       "      <th>2</th>\n",
       "      <td>2409034</td>\n",
       "      <td>1.160971e+03</td>\n",
       "      <td>Private Banks</td>\n",
       "      <td>7440710</td>\n",
       "      <td>2956533</td>\n",
       "      <td>6971159</td>\n",
       "      <td>27-01-2016</td>\n",
       "      <td>4478240</td>\n",
       "      <td>2962470</td>\n",
       "      <td>4195638.0</td>\n",
       "      <td>2775521.0</td>\n",
       "      <td>699.0</td>\n",
       "      <td>462.0</td>\n",
       "      <td>1177124.0</td>\n",
       "      <td>1779409.0</td>\n",
       "      <td>1449893.0</td>\n",
       "      <td>959141.0</td>\n",
       "      <td>1560.0</td>\n",
       "    </tr>\n",
       "    <tr>\n",
       "      <th>3</th>\n",
       "      <td>78195032</td>\n",
       "      <td>2.609405e+04</td>\n",
       "      <td>Public Sector Banks</td>\n",
       "      <td>165252090</td>\n",
       "      <td>48592852</td>\n",
       "      <td>140821948</td>\n",
       "      <td>24-02-2016</td>\n",
       "      <td>92238015</td>\n",
       "      <td>73014075</td>\n",
       "      <td>78601953.0</td>\n",
       "      <td>62219995.0</td>\n",
       "      <td>14565.0</td>\n",
       "      <td>11529.0</td>\n",
       "      <td>21469999.0</td>\n",
       "      <td>27122853.0</td>\n",
       "      <td>43645769.0</td>\n",
       "      <td>34549263.0</td>\n",
       "      <td>1579.0</td>\n",
       "    </tr>\n",
       "    <tr>\n",
       "      <th>4</th>\n",
       "      <td>10956777</td>\n",
       "      <td>5.756437e+03</td>\n",
       "      <td>Regional Rural Banks</td>\n",
       "      <td>37211744</td>\n",
       "      <td>9118065</td>\n",
       "      <td>26653022</td>\n",
       "      <td>24-02-2016</td>\n",
       "      <td>31932869</td>\n",
       "      <td>5278875</td>\n",
       "      <td>22872012.0</td>\n",
       "      <td>3781010.0</td>\n",
       "      <td>4940.0</td>\n",
       "      <td>817.0</td>\n",
       "      <td>1293493.0</td>\n",
       "      <td>7824572.0</td>\n",
       "      <td>9402444.0</td>\n",
       "      <td>1554333.0</td>\n",
       "      <td>1547.0</td>\n",
       "    </tr>\n",
       "    <tr>\n",
       "      <th>5</th>\n",
       "      <td>2532482</td>\n",
       "      <td>1.224398e+03</td>\n",
       "      <td>Private Banks</td>\n",
       "      <td>7542706</td>\n",
       "      <td>2931522</td>\n",
       "      <td>7089897</td>\n",
       "      <td>24-02-2016</td>\n",
       "      <td>4537976</td>\n",
       "      <td>3004730</td>\n",
       "      <td>4265549.0</td>\n",
       "      <td>2824348.0</td>\n",
       "      <td>737.0</td>\n",
       "      <td>488.0</td>\n",
       "      <td>1167808.0</td>\n",
       "      <td>1763714.0</td>\n",
       "      <td>1523637.0</td>\n",
       "      <td>1008845.0</td>\n",
       "      <td>1623.0</td>\n",
       "    </tr>\n",
       "    <tr>\n",
       "      <th>6</th>\n",
       "      <td>80359651</td>\n",
       "      <td>2.813917e+04</td>\n",
       "      <td>Public Sector Banks</td>\n",
       "      <td>168457737</td>\n",
       "      <td>46735511</td>\n",
       "      <td>143155970</td>\n",
       "      <td>30-03-2016</td>\n",
       "      <td>94292464</td>\n",
       "      <td>74165273</td>\n",
       "      <td>80130063.0</td>\n",
       "      <td>63025907.0</td>\n",
       "      <td>15751.0</td>\n",
       "      <td>12389.0</td>\n",
       "      <td>20575795.0</td>\n",
       "      <td>26159716.0</td>\n",
       "      <td>44980478.0</td>\n",
       "      <td>35379173.0</td>\n",
       "      <td>1670.0</td>\n",
       "    </tr>\n",
       "    <tr>\n",
       "      <th>7</th>\n",
       "      <td>11629160</td>\n",
       "      <td>6.178119e+03</td>\n",
       "      <td>Regional Rural Banks</td>\n",
       "      <td>37928568</td>\n",
       "      <td>8780764</td>\n",
       "      <td>26935193</td>\n",
       "      <td>30-03-2016</td>\n",
       "      <td>32571057</td>\n",
       "      <td>5357511</td>\n",
       "      <td>23130525.0</td>\n",
       "      <td>3804668.0</td>\n",
       "      <td>5305.0</td>\n",
       "      <td>873.0</td>\n",
       "      <td>1240306.0</td>\n",
       "      <td>7540458.0</td>\n",
       "      <td>9986510.0</td>\n",
       "      <td>1642650.0</td>\n",
       "      <td>1629.0</td>\n",
       "    </tr>\n",
       "    <tr>\n",
       "      <th>8</th>\n",
       "      <td>2973423</td>\n",
       "      <td>1.354719e+03</td>\n",
       "      <td>Private Banks</td>\n",
       "      <td>7889169</td>\n",
       "      <td>3182525</td>\n",
       "      <td>7438509</td>\n",
       "      <td>30-03-2016</td>\n",
       "      <td>4843513</td>\n",
       "      <td>3045656</td>\n",
       "      <td>4566833.0</td>\n",
       "      <td>2871676.0</td>\n",
       "      <td>832.0</td>\n",
       "      <td>523.0</td>\n",
       "      <td>1228631.0</td>\n",
       "      <td>1953894.0</td>\n",
       "      <td>1825517.0</td>\n",
       "      <td>1147906.0</td>\n",
       "      <td>1717.0</td>\n",
       "    </tr>\n",
       "    <tr>\n",
       "      <th>9</th>\n",
       "      <td>81690617</td>\n",
       "      <td>2.896499e+04</td>\n",
       "      <td>Public Sector Banks</td>\n",
       "      <td>170431139</td>\n",
       "      <td>45547966</td>\n",
       "      <td>144179464</td>\n",
       "      <td>27-04-2016</td>\n",
       "      <td>95192409</td>\n",
       "      <td>75238730</td>\n",
       "      <td>80529829.0</td>\n",
       "      <td>63649635.0</td>\n",
       "      <td>16178.0</td>\n",
       "      <td>12787.0</td>\n",
       "      <td>20107658.0</td>\n",
       "      <td>25440308.0</td>\n",
       "      <td>45627382.0</td>\n",
       "      <td>36063235.0</td>\n",
       "      <td>1700.0</td>\n",
       "    </tr>\n",
       "    <tr>\n",
       "      <th>10</th>\n",
       "      <td>12022299</td>\n",
       "      <td>6.443290e+03</td>\n",
       "      <td>Regional Rural Banks</td>\n",
       "      <td>38324251</td>\n",
       "      <td>8617759</td>\n",
       "      <td>27185660</td>\n",
       "      <td>27-04-2016</td>\n",
       "      <td>32916141</td>\n",
       "      <td>5408110</td>\n",
       "      <td>23349367.0</td>\n",
       "      <td>3836293.0</td>\n",
       "      <td>5534.0</td>\n",
       "      <td>909.0</td>\n",
       "      <td>1216091.0</td>\n",
       "      <td>7401668.0</td>\n",
       "      <td>10325778.0</td>\n",
       "      <td>1696521.0</td>\n",
       "      <td>1681.0</td>\n",
       "    </tr>\n",
       "    <tr>\n",
       "      <th>11</th>\n",
       "      <td>3087822</td>\n",
       "      <td>1.387280e+03</td>\n",
       "      <td>Private Banks</td>\n",
       "      <td>7997133</td>\n",
       "      <td>3035039</td>\n",
       "      <td>7530737</td>\n",
       "      <td>27-04-2016</td>\n",
       "      <td>4924815</td>\n",
       "      <td>3072318</td>\n",
       "      <td>4637598.0</td>\n",
       "      <td>2893139.0</td>\n",
       "      <td>854.0</td>\n",
       "      <td>533.0</td>\n",
       "      <td>1165993.0</td>\n",
       "      <td>1869046.0</td>\n",
       "      <td>1901550.0</td>\n",
       "      <td>1186272.0</td>\n",
       "      <td>1735.0</td>\n",
       "    </tr>\n",
       "    <tr>\n",
       "      <th>12</th>\n",
       "      <td>84138080</td>\n",
       "      <td>2.996128e+06</td>\n",
       "      <td>Public Sector Banks</td>\n",
       "      <td>172334277</td>\n",
       "      <td>44627389</td>\n",
       "      <td>145133163</td>\n",
       "      <td>25-05-2016</td>\n",
       "      <td>96345344</td>\n",
       "      <td>75988933</td>\n",
       "      <td>81138267.0</td>\n",
       "      <td>63994896.0</td>\n",
       "      <td>1675018.0</td>\n",
       "      <td>1321110.0</td>\n",
       "      <td>19677964.0</td>\n",
       "      <td>24949425.0</td>\n",
       "      <td>47038305.0</td>\n",
       "      <td>37099775.0</td>\n",
       "      <td>173856.0</td>\n",
       "    </tr>\n",
       "    <tr>\n",
       "      <th>13</th>\n",
       "      <td>13001019</td>\n",
       "      <td>6.671263e+05</td>\n",
       "      <td>Regional Rural Banks</td>\n",
       "      <td>38842602</td>\n",
       "      <td>8575494</td>\n",
       "      <td>27378788</td>\n",
       "      <td>25-05-2016</td>\n",
       "      <td>33362156</td>\n",
       "      <td>5480446</td>\n",
       "      <td>23515814.0</td>\n",
       "      <td>3862974.0</td>\n",
       "      <td>572999.0</td>\n",
       "      <td>94127.0</td>\n",
       "      <td>1209948.0</td>\n",
       "      <td>7365546.0</td>\n",
       "      <td>11166657.0</td>\n",
       "      <td>1834362.0</td>\n",
       "      <td>171751.0</td>\n",
       "    </tr>\n",
       "    <tr>\n",
       "      <th>14</th>\n",
       "      <td>3209927</td>\n",
       "      <td>1.415107e+05</td>\n",
       "      <td>Private Banks</td>\n",
       "      <td>8115421</td>\n",
       "      <td>3068829</td>\n",
       "      <td>7636344</td>\n",
       "      <td>25-05-2016</td>\n",
       "      <td>5014006</td>\n",
       "      <td>3101415</td>\n",
       "      <td>4718015.0</td>\n",
       "      <td>2918329.0</td>\n",
       "      <td>87431.0</td>\n",
       "      <td>54080.0</td>\n",
       "      <td>1172793.0</td>\n",
       "      <td>1896036.0</td>\n",
       "      <td>1983211.0</td>\n",
       "      <td>1226716.0</td>\n",
       "      <td>174373.0</td>\n",
       "    </tr>\n",
       "  </tbody>\n",
       "</table>\n",
       "</div>"
      ],
      "text/plain": [
       "    Aadhaar Seeding  Balance in Accounts (In Crore)             Bank Type  \\\n",
       "0          74948188                    2.427731e+04   Public Sector Banks   \n",
       "1          10496171                    5.358183e+03  Regional Rural Banks   \n",
       "2           2409034                    1.160971e+03         Private Banks   \n",
       "3          78195032                    2.609405e+04   Public Sector Banks   \n",
       "4          10956777                    5.756437e+03  Regional Rural Banks   \n",
       "5           2532482                    1.224398e+03         Private Banks   \n",
       "6          80359651                    2.813917e+04   Public Sector Banks   \n",
       "7          11629160                    6.178119e+03  Regional Rural Banks   \n",
       "8           2973423                    1.354719e+03         Private Banks   \n",
       "9          81690617                    2.896499e+04   Public Sector Banks   \n",
       "10         12022299                    6.443290e+03  Regional Rural Banks   \n",
       "11          3087822                    1.387280e+03         Private Banks   \n",
       "12         84138080                    2.996128e+06   Public Sector Banks   \n",
       "13         13001019                    6.671263e+05  Regional Rural Banks   \n",
       "14          3209927                    1.415107e+05         Private Banks   \n",
       "\n",
       "    No of Accounts  No of Accounts with Zero Balance  No of Rupay Debit Card  \\\n",
       "0        160835981                          51024535               138621275   \n",
       "1         36401999                           9451369                26389394   \n",
       "2          7440710                           2956533                 6971159   \n",
       "3        165252090                          48592852               140821948   \n",
       "4         37211744                           9118065                26653022   \n",
       "5          7542706                           2931522                 7089897   \n",
       "6        168457737                          46735511               143155970   \n",
       "7         37928568                           8780764                26935193   \n",
       "8          7889169                           3182525                 7438509   \n",
       "9        170431139                          45547966               144179464   \n",
       "10        38324251                           8617759                27185660   \n",
       "11         7997133                           3035039                 7530737   \n",
       "12       172334277                          44627389               145133163   \n",
       "13        38842602                           8575494                27378788   \n",
       "14         8115421                           3068829                 7636344   \n",
       "\n",
       "        Period     Rural     Urban  No_RupayDebit_Rural  No_RupayDebit_Urban  \\\n",
       "0   27-01-2016  89537898  71298083           77170901.0           61450374.0   \n",
       "1   27-01-2016  31248470   5153529           22653376.0            3736018.0   \n",
       "2   27-01-2016   4478240   2962470            4195638.0            2775521.0   \n",
       "3   24-02-2016  92238015  73014075           78601953.0           62219995.0   \n",
       "4   24-02-2016  31932869   5278875           22872012.0            3781010.0   \n",
       "5   24-02-2016   4537976   3004730            4265549.0            2824348.0   \n",
       "6   30-03-2016  94292464  74165273           80130063.0           63025907.0   \n",
       "7   30-03-2016  32571057   5357511           23130525.0            3804668.0   \n",
       "8   30-03-2016   4843513   3045656            4566833.0            2871676.0   \n",
       "9   27-04-2016  95192409  75238730           80529829.0           63649635.0   \n",
       "10  27-04-2016  32916141   5408110           23349367.0            3836293.0   \n",
       "11  27-04-2016   4924815   3072318            4637598.0            2893139.0   \n",
       "12  25-05-2016  96345344  75988933           81138267.0           63994896.0   \n",
       "13  25-05-2016  33362156   5480446           23515814.0            3862974.0   \n",
       "14  25-05-2016   5014006   3101415            4718015.0            2918329.0   \n",
       "\n",
       "    Bal_Rural  Bal_Urban  No_AccZeroBal_Urban  No_AccZeroBal_Rural  \\\n",
       "0     13515.0    10762.0           22619015.0           28405520.0   \n",
       "1      4600.0      759.0            1338056.0            8113313.0   \n",
       "2       699.0      462.0            1177124.0            1779409.0   \n",
       "3     14565.0    11529.0           21469999.0           27122853.0   \n",
       "4      4940.0      817.0            1293493.0            7824572.0   \n",
       "5       737.0      488.0            1167808.0            1763714.0   \n",
       "6     15751.0    12389.0           20575795.0           26159716.0   \n",
       "7      5305.0      873.0            1240306.0            7540458.0   \n",
       "8       832.0      523.0            1228631.0            1953894.0   \n",
       "9     16178.0    12787.0           20107658.0           25440308.0   \n",
       "10     5534.0      909.0            1216091.0            7401668.0   \n",
       "11      854.0      533.0            1165993.0            1869046.0   \n",
       "12  1675018.0  1321110.0           19677964.0           24949425.0   \n",
       "13   572999.0    94127.0            1209948.0            7365546.0   \n",
       "14    87431.0    54080.0            1172793.0            1896036.0   \n",
       "\n",
       "    No_AaadhaarSeeds_Rural  No_AaadhaarSeeds_Urban  Overall_Bal  \n",
       "0               41723893.0              33224295.0       1509.0  \n",
       "1                9010200.0               1485971.0       1472.0  \n",
       "2                1449893.0                959141.0       1560.0  \n",
       "3               43645769.0              34549263.0       1579.0  \n",
       "4                9402444.0               1554333.0       1547.0  \n",
       "5                1523637.0               1008845.0       1623.0  \n",
       "6               44980478.0              35379173.0       1670.0  \n",
       "7                9986510.0               1642650.0       1629.0  \n",
       "8                1825517.0               1147906.0       1717.0  \n",
       "9               45627382.0              36063235.0       1700.0  \n",
       "10              10325778.0               1696521.0       1681.0  \n",
       "11               1901550.0               1186272.0       1735.0  \n",
       "12              47038305.0              37099775.0     173856.0  \n",
       "13              11166657.0               1834362.0     171751.0  \n",
       "14               1983211.0               1226716.0     174373.0  "
      ]
     },
     "execution_count": 108,
     "metadata": {},
     "output_type": "execute_result"
    }
   ],
   "source": [
    "pmjdy_consolidate"
   ]
  },
  {
   "cell_type": "markdown",
   "metadata": {},
   "source": [
    "## Plot overall balance"
   ]
  },
  {
   "cell_type": "code",
   "execution_count": 106,
   "metadata": {
    "collapsed": false
   },
   "outputs": [],
   "source": [
    "%matplotlib inline\n",
    "import matplotlib.pyplot as plt\n",
    "plt.style.use('ggplot')"
   ]
  },
  {
   "cell_type": "code",
   "execution_count": 122,
   "metadata": {
    "collapsed": false
   },
   "outputs": [],
   "source": [
    "bal_plot = pd.DataFrame({'Period': pmjdy_consolidate['Period'], \n",
    "                         'Balance': pmjdy_consolidate['Overall_Bal'], \n",
    "                         'Type': pmjdy_consolidate['Bank Type']\n",
    "                        })\n",
    "bal_plot.set_index('Period', inplace=True)"
   ]
  },
  {
   "cell_type": "code",
   "execution_count": 126,
   "metadata": {
    "collapsed": false
   },
   "outputs": [],
   "source": [
    "#fig, ax = plt.subplots(figsize=(8, 6))"
   ]
  },
  {
   "cell_type": "code",
   "execution_count": 127,
   "metadata": {
    "collapsed": false
   },
   "outputs": [],
   "source": [
    "#bal_plot.groupby('Type').plot()"
   ]
  },
  {
   "cell_type": "code",
   "execution_count": null,
   "metadata": {
    "collapsed": true
   },
   "outputs": [],
   "source": []
  }
 ],
 "metadata": {
  "anaconda-cloud": {},
  "kernelspec": {
   "display_name": "Python [Root]",
   "language": "python",
   "name": "Python [Root]"
  },
  "language_info": {
   "codemirror_mode": {
    "name": "ipython",
    "version": 2
   },
   "file_extension": ".py",
   "mimetype": "text/x-python",
   "name": "python",
   "nbconvert_exporter": "python",
   "pygments_lexer": "ipython2",
   "version": "2.7.12"
  }
 },
 "nbformat": 4,
 "nbformat_minor": 0
}
